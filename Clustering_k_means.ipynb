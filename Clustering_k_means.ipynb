{
  "nbformat": 4,
  "nbformat_minor": 0,
  "metadata": {
    "colab": {
      "name": "Clustering k-means.ipynb",
      "provenance": [],
      "collapsed_sections": []
    },
    "kernelspec": {
      "name": "python3",
      "display_name": "Python 3"
    },
    "language_info": {
      "name": "python"
    }
  },
  "cells": [
    {
      "cell_type": "markdown",
      "metadata": {
        "id": "gJwqWml0mC8-"
      },
      "source": [
        "# K Means Clustering"
      ]
    },
    {
      "cell_type": "code",
      "metadata": {
        "id": "_SXvC4PxSnq8"
      },
      "source": [
        "#Kita Butuh Import terlebih dahulu untuk mencari K Means Clustering dan Hierarchy\n",
        "import pandas as pd\n",
        "import numpy as np\n",
        "import seaborn as sns\n",
        "import matplotlib.pyplot as plt\n",
        "from sklearn.cluster import KMeans\n",
        "from sklearn.preprocessing import MinMaxScaler\n",
        "from sklearn.preprocessing import StandardScaler\n",
        "from scipy.cluster.hierarchy import linkage\n",
        "from scipy.cluster.hierarchy import dendrogram\n",
        "from scipy.cluster.hierarchy import cut_tree"
      ],
      "execution_count": null,
      "outputs": []
    },
    {
      "cell_type": "code",
      "metadata": {
        "colab": {
          "base_uri": "https://localhost:8080/",
          "height": 202
        },
        "id": "Uyw_a7w3Tvik",
        "outputId": "006abda5-2cb7-4e37-cfab-a9567a42c578"
      },
      "source": [
        "# Dataset sebelumnya dari Kaggle \n",
        "data = pd.read_csv('SNAP_history_1969_2019.csv')\n",
        "data.head()"
      ],
      "execution_count": null,
      "outputs": [
        {
          "output_type": "execute_result",
          "data": {
            "text/html": [
              "<div>\n",
              "<style scoped>\n",
              "    .dataframe tbody tr th:only-of-type {\n",
              "        vertical-align: middle;\n",
              "    }\n",
              "\n",
              "    .dataframe tbody tr th {\n",
              "        vertical-align: top;\n",
              "    }\n",
              "\n",
              "    .dataframe thead th {\n",
              "        text-align: right;\n",
              "    }\n",
              "</style>\n",
              "<table border=\"1\" class=\"dataframe\">\n",
              "  <thead>\n",
              "    <tr style=\"text-align: right;\">\n",
              "      <th></th>\n",
              "      <th>Fiscal Year</th>\n",
              "      <th>Average Participation</th>\n",
              "      <th>Average Benefit Per Person</th>\n",
              "      <th>Total Benefits(M)</th>\n",
              "      <th>Other Costs</th>\n",
              "      <th>Total Costs(M)</th>\n",
              "    </tr>\n",
              "  </thead>\n",
              "  <tbody>\n",
              "    <tr>\n",
              "      <th>0</th>\n",
              "      <td>1969</td>\n",
              "      <td>28.78</td>\n",
              "      <td>6.63</td>\n",
              "      <td>228.8</td>\n",
              "      <td>21.7</td>\n",
              "      <td>250.5</td>\n",
              "    </tr>\n",
              "    <tr>\n",
              "      <th>1</th>\n",
              "      <td>1970</td>\n",
              "      <td>43.40</td>\n",
              "      <td>10.55</td>\n",
              "      <td>549.7</td>\n",
              "      <td>27.2</td>\n",
              "      <td>576.9</td>\n",
              "    </tr>\n",
              "    <tr>\n",
              "      <th>2</th>\n",
              "      <td>1971</td>\n",
              "      <td>93.68</td>\n",
              "      <td>13.55</td>\n",
              "      <td>1,522.70</td>\n",
              "      <td>53.2</td>\n",
              "      <td>1,575.90</td>\n",
              "    </tr>\n",
              "    <tr>\n",
              "      <th>3</th>\n",
              "      <td>1972</td>\n",
              "      <td>11.11</td>\n",
              "      <td>13.48</td>\n",
              "      <td>1,797.30</td>\n",
              "      <td>69.4</td>\n",
              "      <td>1,866.70</td>\n",
              "    </tr>\n",
              "    <tr>\n",
              "      <th>4</th>\n",
              "      <td>1973</td>\n",
              "      <td>12.17</td>\n",
              "      <td>14.60</td>\n",
              "      <td>2,131.40</td>\n",
              "      <td>76</td>\n",
              "      <td>2,207.40</td>\n",
              "    </tr>\n",
              "  </tbody>\n",
              "</table>\n",
              "</div>"
            ],
            "text/plain": [
              "   Fiscal Year  Average Participation  ...  Other Costs Total Costs(M)\n",
              "0         1969                  28.78  ...         21.7          250.5\n",
              "1         1970                  43.40  ...         27.2          576.9\n",
              "2         1971                  93.68  ...         53.2       1,575.90\n",
              "3         1972                  11.11  ...         69.4       1,866.70\n",
              "4         1973                  12.17  ...           76       2,207.40\n",
              "\n",
              "[5 rows x 6 columns]"
            ]
          },
          "metadata": {},
          "execution_count": 2
        }
      ]
    },
    {
      "cell_type": "code",
      "metadata": {
        "colab": {
          "base_uri": "https://localhost:8080/"
        },
        "id": "boHQoNwXq-QF",
        "outputId": "a57cb72c-d703-495a-e087-85f558c07afb"
      },
      "source": [
        "data.info()"
      ],
      "execution_count": null,
      "outputs": [
        {
          "output_type": "stream",
          "name": "stdout",
          "text": [
            "<class 'pandas.core.frame.DataFrame'>\n",
            "RangeIndex: 51 entries, 0 to 50\n",
            "Data columns (total 6 columns):\n",
            " #   Column                      Non-Null Count  Dtype  \n",
            "---  ------                      --------------  -----  \n",
            " 0   Fiscal Year                 51 non-null     int64  \n",
            " 1   Average Participation       51 non-null     float64\n",
            " 2   Average Benefit Per Person  51 non-null     float64\n",
            " 3   Total Benefits(M)           51 non-null     object \n",
            " 4   Other Costs                 51 non-null     object \n",
            " 5   Total Costs(M)              51 non-null     object \n",
            "dtypes: float64(2), int64(1), object(3)\n",
            "memory usage: 2.5+ KB\n"
          ]
        }
      ]
    },
    {
      "cell_type": "code",
      "metadata": {
        "colab": {
          "base_uri": "https://localhost:8080/"
        },
        "id": "qSUkOUfmsh1N",
        "outputId": "53871273-0c77-4cae-c9a1-d36f0f426b57"
      },
      "source": [
        "data.columns.tolist()"
      ],
      "execution_count": null,
      "outputs": [
        {
          "output_type": "execute_result",
          "data": {
            "text/plain": [
              "['Fiscal Year',\n",
              " 'Average Participation',\n",
              " 'Average Benefit Per Person',\n",
              " 'Total Benefits(M)',\n",
              " 'Other Costs',\n",
              " 'Total Costs(M)']"
            ]
          },
          "metadata": {},
          "execution_count": 4
        }
      ]
    },
    {
      "cell_type": "code",
      "metadata": {
        "colab": {
          "base_uri": "https://localhost:8080/",
          "height": 202
        },
        "id": "1_x9dnaQtriX",
        "outputId": "37346cee-f78b-45e5-d4c9-57036893006c"
      },
      "source": [
        "data = data.drop([\"Fiscal Year\",\"Total Benefits(M)\", \"Other Costs\", \"Total Costs(M)\"], axis=1)\n",
        "data.head()"
      ],
      "execution_count": null,
      "outputs": [
        {
          "output_type": "execute_result",
          "data": {
            "text/html": [
              "<div>\n",
              "<style scoped>\n",
              "    .dataframe tbody tr th:only-of-type {\n",
              "        vertical-align: middle;\n",
              "    }\n",
              "\n",
              "    .dataframe tbody tr th {\n",
              "        vertical-align: top;\n",
              "    }\n",
              "\n",
              "    .dataframe thead th {\n",
              "        text-align: right;\n",
              "    }\n",
              "</style>\n",
              "<table border=\"1\" class=\"dataframe\">\n",
              "  <thead>\n",
              "    <tr style=\"text-align: right;\">\n",
              "      <th></th>\n",
              "      <th>Average Participation</th>\n",
              "      <th>Average Benefit Per Person</th>\n",
              "    </tr>\n",
              "  </thead>\n",
              "  <tbody>\n",
              "    <tr>\n",
              "      <th>0</th>\n",
              "      <td>28.78</td>\n",
              "      <td>6.63</td>\n",
              "    </tr>\n",
              "    <tr>\n",
              "      <th>1</th>\n",
              "      <td>43.40</td>\n",
              "      <td>10.55</td>\n",
              "    </tr>\n",
              "    <tr>\n",
              "      <th>2</th>\n",
              "      <td>93.68</td>\n",
              "      <td>13.55</td>\n",
              "    </tr>\n",
              "    <tr>\n",
              "      <th>3</th>\n",
              "      <td>11.11</td>\n",
              "      <td>13.48</td>\n",
              "    </tr>\n",
              "    <tr>\n",
              "      <th>4</th>\n",
              "      <td>12.17</td>\n",
              "      <td>14.60</td>\n",
              "    </tr>\n",
              "  </tbody>\n",
              "</table>\n",
              "</div>"
            ],
            "text/plain": [
              "   Average Participation  Average Benefit Per Person\n",
              "0                  28.78                        6.63\n",
              "1                  43.40                       10.55\n",
              "2                  93.68                       13.55\n",
              "3                  11.11                       13.48\n",
              "4                  12.17                       14.60"
            ]
          },
          "metadata": {},
          "execution_count": 10
        }
      ]
    },
    {
      "cell_type": "code",
      "metadata": {
        "id": "sn9mW5P-1Zy-",
        "colab": {
          "base_uri": "https://localhost:8080/",
          "height": 202
        },
        "outputId": "c729c57e-8d77-49ca-a384-31779990d5bf"
      },
      "source": [
        "data_x = data.iloc[:, 0:4]\n",
        "data_x.head()"
      ],
      "execution_count": null,
      "outputs": [
        {
          "output_type": "execute_result",
          "data": {
            "text/html": [
              "<div>\n",
              "<style scoped>\n",
              "    .dataframe tbody tr th:only-of-type {\n",
              "        vertical-align: middle;\n",
              "    }\n",
              "\n",
              "    .dataframe tbody tr th {\n",
              "        vertical-align: top;\n",
              "    }\n",
              "\n",
              "    .dataframe thead th {\n",
              "        text-align: right;\n",
              "    }\n",
              "</style>\n",
              "<table border=\"1\" class=\"dataframe\">\n",
              "  <thead>\n",
              "    <tr style=\"text-align: right;\">\n",
              "      <th></th>\n",
              "      <th>Average Participation</th>\n",
              "      <th>Average Benefit Per Person</th>\n",
              "    </tr>\n",
              "  </thead>\n",
              "  <tbody>\n",
              "    <tr>\n",
              "      <th>0</th>\n",
              "      <td>28.78</td>\n",
              "      <td>6.63</td>\n",
              "    </tr>\n",
              "    <tr>\n",
              "      <th>1</th>\n",
              "      <td>43.40</td>\n",
              "      <td>10.55</td>\n",
              "    </tr>\n",
              "    <tr>\n",
              "      <th>2</th>\n",
              "      <td>93.68</td>\n",
              "      <td>13.55</td>\n",
              "    </tr>\n",
              "    <tr>\n",
              "      <th>3</th>\n",
              "      <td>11.11</td>\n",
              "      <td>13.48</td>\n",
              "    </tr>\n",
              "    <tr>\n",
              "      <th>4</th>\n",
              "      <td>12.17</td>\n",
              "      <td>14.60</td>\n",
              "    </tr>\n",
              "  </tbody>\n",
              "</table>\n",
              "</div>"
            ],
            "text/plain": [
              "   Average Participation  Average Benefit Per Person\n",
              "0                  28.78                        6.63\n",
              "1                  43.40                       10.55\n",
              "2                  93.68                       13.55\n",
              "3                  11.11                       13.48\n",
              "4                  12.17                       14.60"
            ]
          },
          "metadata": {},
          "execution_count": 11
        }
      ]
    },
    {
      "cell_type": "code",
      "metadata": {
        "colab": {
          "base_uri": "https://localhost:8080/",
          "height": 294
        },
        "id": "uwX5ez4s4pc4",
        "outputId": "c178217d-6f27-4f23-aace-c0fee6aa3134"
      },
      "source": [
        "data.describe()"
      ],
      "execution_count": null,
      "outputs": [
        {
          "output_type": "execute_result",
          "data": {
            "text/html": [
              "<div>\n",
              "<style scoped>\n",
              "    .dataframe tbody tr th:only-of-type {\n",
              "        vertical-align: middle;\n",
              "    }\n",
              "\n",
              "    .dataframe tbody tr th {\n",
              "        vertical-align: top;\n",
              "    }\n",
              "\n",
              "    .dataframe thead th {\n",
              "        text-align: right;\n",
              "    }\n",
              "</style>\n",
              "<table border=\"1\" class=\"dataframe\">\n",
              "  <thead>\n",
              "    <tr style=\"text-align: right;\">\n",
              "      <th></th>\n",
              "      <th>Average Participation</th>\n",
              "      <th>Average Benefit Per Person</th>\n",
              "    </tr>\n",
              "  </thead>\n",
              "  <tbody>\n",
              "    <tr>\n",
              "      <th>count</th>\n",
              "      <td>51.000000</td>\n",
              "      <td>51.000000</td>\n",
              "    </tr>\n",
              "    <tr>\n",
              "      <th>mean</th>\n",
              "      <td>27.476863</td>\n",
              "      <td>69.168235</td>\n",
              "    </tr>\n",
              "    <tr>\n",
              "      <th>std</th>\n",
              "      <td>13.932676</td>\n",
              "      <td>39.653539</td>\n",
              "    </tr>\n",
              "    <tr>\n",
              "      <th>min</th>\n",
              "      <td>11.110000</td>\n",
              "      <td>6.630000</td>\n",
              "    </tr>\n",
              "    <tr>\n",
              "      <th>25%</th>\n",
              "      <td>18.955000</td>\n",
              "      <td>39.330000</td>\n",
              "    </tr>\n",
              "    <tr>\n",
              "      <th>50%</th>\n",
              "      <td>22.630000</td>\n",
              "      <td>69.230000</td>\n",
              "    </tr>\n",
              "    <tr>\n",
              "      <th>75%</th>\n",
              "      <td>31.135000</td>\n",
              "      <td>95.465000</td>\n",
              "    </tr>\n",
              "    <tr>\n",
              "      <th>max</th>\n",
              "      <td>93.680000</td>\n",
              "      <td>133.850000</td>\n",
              "    </tr>\n",
              "  </tbody>\n",
              "</table>\n",
              "</div>"
            ],
            "text/plain": [
              "       Average Participation  Average Benefit Per Person\n",
              "count              51.000000                   51.000000\n",
              "mean               27.476863                   69.168235\n",
              "std                13.932676                   39.653539\n",
              "min                11.110000                    6.630000\n",
              "25%                18.955000                   39.330000\n",
              "50%                22.630000                   69.230000\n",
              "75%                31.135000                   95.465000\n",
              "max                93.680000                  133.850000"
            ]
          },
          "metadata": {},
          "execution_count": 12
        }
      ]
    },
    {
      "cell_type": "code",
      "metadata": {
        "colab": {
          "base_uri": "https://localhost:8080/",
          "height": 301
        },
        "id": "EguTF6E3HEdG",
        "outputId": "0da029d4-172b-4c4d-8e79-a0a354badb03"
      },
      "source": [
        "sns.scatterplot(x=\"Average Participation\", y=\"Average Benefit Per Person\", data=data, s=100, color=\"red\", alpha = 0.5)"
      ],
      "execution_count": null,
      "outputs": [
        {
          "output_type": "execute_result",
          "data": {
            "text/plain": [
              "<matplotlib.axes._subplots.AxesSubplot at 0x7f4521400810>"
            ]
          },
          "metadata": {},
          "execution_count": 13
        },
        {
          "output_type": "display_data",
          "data": {
            "image/png": "[encoded data removed]",
            "text/plain": [
              "<Figure size 432x288 with 1 Axes>"
            ]
          },
          "metadata": {
            "needs_background": "light"
          }
        }
      ]
    },
    {
      "cell_type": "code",
      "metadata": {
        "colab": {
          "base_uri": "https://localhost:8080/"
        },
        "id": "aloTFmHKNxWm",
        "outputId": "72856efa-2c3c-43d3-b92a-c44b8a4c2734"
      },
      "source": [
        "#Menampilkan dataset menjadi Array List\n",
        "x_array = np.array(data_x)\n",
        "print(x_array)"
      ],
      "execution_count": null,
      "outputs": [
        {
          "output_type": "stream",
          "name": "stdout",
          "text": [
            "[[ 28.78   6.63]\n",
            " [ 43.4   10.55]\n",
            " [ 93.68  13.55]\n",
            " [ 11.11  13.48]\n",
            " [ 12.17  14.6 ]\n",
            " [ 12.86  17.61]\n",
            " [ 17.06  21.4 ]\n",
            " [ 18.55  23.93]\n",
            " [ 17.08  24.71]\n",
            " [ 16.24  26.77]\n",
            " [ 17.65  30.59]\n",
            " [ 21.08  34.47]\n",
            " [ 22.43  39.49]\n",
            " [ 21.72  39.17]\n",
            " [ 21.63  42.98]\n",
            " [ 20.85  42.74]\n",
            " [ 19.9   44.99]\n",
            " [ 19.43  45.49]\n",
            " [ 19.11  45.78]\n",
            " [ 18.65  49.83]\n",
            " [ 18.81  51.71]\n",
            " [ 20.05  58.78]\n",
            " [ 22.63  63.78]\n",
            " [ 25.41  68.57]\n",
            " [ 26.99  67.95]\n",
            " [ 27.47  69.23]\n",
            " [ 26.62  71.27]\n",
            " [ 25.54  73.21]\n",
            " [ 22.86  71.27]\n",
            " [ 19.79  71.12]\n",
            " [ 18.18  72.27]\n",
            " [ 17.19  72.62]\n",
            " [ 17.32  74.81]\n",
            " [ 19.1   79.67]\n",
            " [ 21.25  83.94]\n",
            " [ 23.81  86.16]\n",
            " [ 25.63  92.89]\n",
            " [ 26.55  94.75]\n",
            " [ 26.32  96.18]\n",
            " [ 28.22 102.19]\n",
            " [ 33.49 125.31]\n",
            " [ 40.3  133.79]\n",
            " [ 44.71 133.85]\n",
            " [ 46.61 133.41]\n",
            " [ 47.64 133.07]\n",
            " [ 46.66 125.01]\n",
            " [ 45.77 126.81]\n",
            " [ 44.22 125.4 ]\n",
            " [ 42.32 125.47]\n",
            " [ 40.78 124.5 ]\n",
            " [ 35.7  129.83]]\n"
          ]
        }
      ]
    },
    {
      "cell_type": "code",
      "metadata": {
        "id": "TMTbq7-6N3IF",
        "colab": {
          "base_uri": "https://localhost:8080/"
        },
        "outputId": "15d19c6c-2c8f-4634-aafc-5018a238d529"
      },
      "source": [
        "scaler = MinMaxScaler()\n",
        "x_scaled = scaler.fit_transform(x_array)\n",
        "print(x_scaled)"
      ],
      "execution_count": null,
      "outputs": [
        {
          "output_type": "stream",
          "name": "stdout",
          "text": [
            "[[0.21400024 0.        ]\n",
            " [0.39106213 0.03081277]\n",
            " [1.         0.05439396]\n",
            " [0.         0.05384374]\n",
            " [0.01283759 0.06264738]\n",
            " [0.02119414 0.08630718]\n",
            " [0.07206007 0.1160981 ]\n",
            " [0.09010537 0.13598491]\n",
            " [0.07230229 0.14211602]\n",
            " [0.0621291  0.15830844]\n",
            " [0.07920552 0.18833517]\n",
            " [0.12074603 0.21883352]\n",
            " [0.1370958  0.25829272]\n",
            " [0.12849703 0.25577739]\n",
            " [0.12740705 0.28572551]\n",
            " [0.11796052 0.28383902]\n",
            " [0.10645513 0.30152492]\n",
            " [0.10076299 0.30545512]\n",
            " [0.09688749 0.30773463]\n",
            " [0.09131646 0.33956925]\n",
            " [0.09325421 0.3543468 ]\n",
            " [0.10827177 0.40991982]\n",
            " [0.13951798 0.44922182]\n",
            " [0.17318639 0.48687313]\n",
            " [0.19232167 0.48199969]\n",
            " [0.19813492 0.492061  ]\n",
            " [0.18784062 0.50809621]\n",
            " [0.17476081 0.52334539]\n",
            " [0.1423035  0.50809621]\n",
            " [0.10512293 0.50691715]\n",
            " [0.08562432 0.51595661]\n",
            " [0.07363449 0.51870775]\n",
            " [0.07520891 0.53592202]\n",
            " [0.09676638 0.57412357]\n",
            " [0.12280489 0.60768747]\n",
            " [0.15380889 0.62513756]\n",
            " [0.17585079 0.67803804]\n",
            " [0.18699285 0.69265839]\n",
            " [0.18420734 0.70389876]\n",
            " [0.20721812 0.75113976]\n",
            " [0.27104275 0.93287219]\n",
            " [0.35351823 0.99952838]\n",
            " [0.40692746 1.        ]\n",
            " [0.42993823 0.99654142]\n",
            " [0.4424125  0.99386889]\n",
            " [0.43054378 0.93051407]\n",
            " [0.41976505 0.94466279]\n",
            " [0.4009931  0.93357963]\n",
            " [0.37798232 0.93412985]\n",
            " [0.35933148 0.92650527]\n",
            " [0.29780792 0.96840119]]\n"
          ]
        }
      ]
    },
    {
      "cell_type": "code",
      "metadata": {
        "colab": {
          "base_uri": "https://localhost:8080/"
        },
        "id": "Xh-PjPjqErtX",
        "outputId": "9164fea7-43fe-46a8-cc82-9f23af431466"
      },
      "source": [
        "kmeans = KMeans(n_clusters = 5, random_state=123)\n",
        "kmeans.fit(x_scaled)"
      ],
      "execution_count": null,
      "outputs": [
        {
          "output_type": "execute_result",
          "data": {
            "text/plain": [
              "KMeans(algorithm='auto', copy_x=True, init='k-means++', max_iter=300,\n",
              "       n_clusters=5, n_init=10, n_jobs=None, precompute_distances='auto',\n",
              "       random_state=123, tol=0.0001, verbose=0)"
            ]
          },
          "metadata": {},
          "execution_count": 26
        }
      ]
    },
    {
      "cell_type": "code",
      "metadata": {
        "colab": {
          "base_uri": "https://localhost:8080/"
        },
        "id": "o-YpbQqGr6Js",
        "outputId": "6ebd5c27-d8cc-4bab-be38-7726215af422"
      },
      "source": [
        "print(kmeans.cluster_centers_)"
      ],
      "execution_count": null,
      "outputs": [
        {
          "output_type": "stream",
          "name": "stdout",
          "text": [
            "[[0.10148965 0.09744537]\n",
            " [0.38093298 0.96005488]\n",
            " [0.1486281  0.56443781]\n",
            " [1.         0.05439396]\n",
            " [0.11169586 0.30191079]]\n"
          ]
        }
      ]
    },
    {
      "cell_type": "code",
      "metadata": {
        "colab": {
          "base_uri": "https://localhost:8080/",
          "height": 237
        },
        "id": "rgVkY58Vstix",
        "outputId": "bf384b64-dba5-414a-bcbb-c074feed99cd"
      },
      "source": [
        "print(kmeans.labels_)\n",
        "data[\"kluster\"] = kmeans.labels_\n",
        "data.head()"
      ],
      "execution_count": null,
      "outputs": [
        {
          "output_type": "stream",
          "name": "stdout",
          "text": [
            "[0 0 3 0 0 0 0 0 0 0 0 4 4 4 4 4 4 4 4 4 4 4 2 2 2 2 2 2 2 2 2 2 2 2 2 2 2\n",
            " 2 2 2 1 1 1 1 1 1 1 1 1 1 1]\n"
          ]
        },
        {
          "output_type": "execute_result",
          "data": {
            "text/html": [
              "<div>\n",
              "<style scoped>\n",
              "    .dataframe tbody tr th:only-of-type {\n",
              "        vertical-align: middle;\n",
              "    }\n",
              "\n",
              "    .dataframe tbody tr th {\n",
              "        vertical-align: top;\n",
              "    }\n",
              "\n",
              "    .dataframe thead th {\n",
              "        text-align: right;\n",
              "    }\n",
              "</style>\n",
              "<table border=\"1\" class=\"dataframe\">\n",
              "  <thead>\n",
              "    <tr style=\"text-align: right;\">\n",
              "      <th></th>\n",
              "      <th>Average Participation</th>\n",
              "      <th>Average Benefit Per Person</th>\n",
              "      <th>kluster</th>\n",
              "    </tr>\n",
              "  </thead>\n",
              "  <tbody>\n",
              "    <tr>\n",
              "      <th>0</th>\n",
              "      <td>28.78</td>\n",
              "      <td>6.63</td>\n",
              "      <td>0</td>\n",
              "    </tr>\n",
              "    <tr>\n",
              "      <th>1</th>\n",
              "      <td>43.40</td>\n",
              "      <td>10.55</td>\n",
              "      <td>0</td>\n",
              "    </tr>\n",
              "    <tr>\n",
              "      <th>2</th>\n",
              "      <td>93.68</td>\n",
              "      <td>13.55</td>\n",
              "      <td>3</td>\n",
              "    </tr>\n",
              "    <tr>\n",
              "      <th>3</th>\n",
              "      <td>11.11</td>\n",
              "      <td>13.48</td>\n",
              "      <td>0</td>\n",
              "    </tr>\n",
              "    <tr>\n",
              "      <th>4</th>\n",
              "      <td>12.17</td>\n",
              "      <td>14.60</td>\n",
              "      <td>0</td>\n",
              "    </tr>\n",
              "  </tbody>\n",
              "</table>\n",
              "</div>"
            ],
            "text/plain": [
              "   Average Participation  Average Benefit Per Person  kluster\n",
              "0                  28.78                        6.63        0\n",
              "1                  43.40                       10.55        0\n",
              "2                  93.68                       13.55        3\n",
              "3                  11.11                       13.48        0\n",
              "4                  12.17                       14.60        0"
            ]
          },
          "metadata": {},
          "execution_count": 28
        }
      ]
    },
    {
      "cell_type": "code",
      "metadata": {
        "colab": {
          "base_uri": "https://localhost:8080/",
          "height": 294
        },
        "id": "v7DZSBykt2ex",
        "outputId": "5837dd85-f9db-42d0-d023-165178be14d9"
      },
      "source": [
        "fig, ax = plt.subplots()\n",
        "sct = ax.scatter(x_scaled[:,1], x_scaled[:,0], s = 200,\n",
        "c = data.kluster, marker = \"o\", alpha = 1.0)\n",
        "centers = kmeans.cluster_centers_\n",
        "ax.scatter(centers[:,0], centers[:,1], c='blue', s=200, alpha=1.0);\n",
        "plt.title(\"Hasil Output Clustering K-Means\")\n",
        "plt.xlabel(\"Scaled Average Participation\")\n",
        "plt.ylabel(\"Scaled Average Benefit Per Person\")\n",
        "plt.show()"
      ],
      "execution_count": null,
      "outputs": [
        {
          "output_type": "display_data",
          "data": {
            "image/png": "[encoded data removed]",
            "text/plain": [
              "<Figure size 432x288 with 1 Axes>"
            ]
          },
          "metadata": {
            "needs_background": "light"
          }
        }
      ]
    },
    {
      "cell_type": "code",
      "metadata": {
        "colab": {
          "base_uri": "https://localhost:8080/",
          "height": 294
        },
        "id": "i2O2XAnZzl4F",
        "outputId": "fde29dfd-3420-40c3-f567-3e0187087e4e"
      },
      "source": [
        "fig, ax = plt.subplots()\n",
        "sct = ax.scatter(x_scaled[:,1], x_scaled[:,0], s = 200,\n",
        "c = data.kluster, marker = \"1\", alpha = 1.0)\n",
        "centers = kmeans.cluster_centers_\n",
        "ax.scatter(centers[:,0], centers[:,1], c='blue', s=200, alpha=1.0);\n",
        "plt.title(\"Hasil Output Clustering K-Means\")\n",
        "plt.xlabel(\"Scaled Average Participation\")\n",
        "plt.ylabel(\"Scaled Average Benefit Per Person\")\n",
        "plt.show()"
      ],
      "execution_count": null,
      "outputs": [
        {
          "output_type": "display_data",
          "data": {
            "image/png": "[encoded data removed]",
            "text/plain": [
              "<Figure size 432x288 with 1 Axes>"
            ]
          },
          "metadata": {
            "needs_background": "light"
          }
        }
      ]
    },
    {
      "cell_type": "code",
      "metadata": {
        "colab": {
          "base_uri": "https://localhost:8080/",
          "height": 294
        },
        "id": "X3Avl2893jHb",
        "outputId": "92b2adf2-62c4-4312-f923-40841d617ef5"
      },
      "source": [
        "fig, ax = plt.subplots()\n",
        "sct = ax.scatter(x_scaled[:,1], x_scaled[:,0], s = 200,\n",
        "c = data.kluster, marker = \"2\", alpha = 1.0)\n",
        "centers = kmeans.cluster_centers_\n",
        "ax.scatter(centers[:,0], centers[:,1], c='blue', s=200, alpha=1.0);\n",
        "plt.title(\"Hasil Output Clustering K-Means\")\n",
        "plt.xlabel(\"Scaled Average Participation\")\n",
        "plt.ylabel(\"Scaled Average Benefit Per Person\")\n",
        "plt.show()"
      ],
      "execution_count": null,
      "outputs": [
        {
          "output_type": "display_data",
          "data": {
            "image/png": "[encoded data removed]",
            "text/plain": [
              "<Figure size 432x288 with 1 Axes>"
            ]
          },
          "metadata": {
            "needs_background": "light"
          }
        }
      ]
    },
    {
      "cell_type": "code",
      "metadata": {
        "colab": {
          "base_uri": "https://localhost:8080/",
          "height": 294
        },
        "id": "KLxhWGR23mZC",
        "outputId": "1d3ac42e-99b5-45d2-cebd-dab5c4455ad2"
      },
      "source": [
        "fig, ax = plt.subplots()\n",
        "sct = ax.scatter(x_scaled[:,1], x_scaled[:,0], s = 200,\n",
        "c = data.kluster, marker = \"3\", alpha = 1.0)\n",
        "centers = kmeans.cluster_centers_\n",
        "ax.scatter(centers[:,0], centers[:,1], c='blue', s=200, alpha=1.0);\n",
        "plt.title(\"Hasil Output Clustering K-Means\")\n",
        "plt.xlabel(\"Scaled Average Participation\")\n",
        "plt.ylabel(\"Scaled Average Benefit Per Person\")\n",
        "plt.show()"
      ],
      "execution_count": null,
      "outputs": [
        {
          "output_type": "display_data",
          "data": {
            "image/png": "[encoded data removed]",
            "text/plain": [
              "<Figure size 432x288 with 1 Axes>"
            ]
          },
          "metadata": {
            "needs_background": "light"
          }
        }
      ]
    },
    {
      "cell_type": "markdown",
      "metadata": {
        "id": "FPGVrsDaSDBL"
      },
      "source": [
        "# Hiralki"
      ]
    },
    {
      "cell_type": "code",
      "metadata": {
        "colab": {
          "base_uri": "https://localhost:8080/",
          "height": 1000
        },
        "id": "5_Tzvm4WUmgl",
        "outputId": "a642f916-4481-418b-9d6f-dc6de0d3816e"
      },
      "source": [
        "data"
      ],
      "execution_count": 59,
      "outputs": [
        {
          "output_type": "execute_result",
          "data": {
            "text/html": [
              "<div>\n",
              "<style scoped>\n",
              "    .dataframe tbody tr th:only-of-type {\n",
              "        vertical-align: middle;\n",
              "    }\n",
              "\n",
              "    .dataframe tbody tr th {\n",
              "        vertical-align: top;\n",
              "    }\n",
              "\n",
              "    .dataframe thead th {\n",
              "        text-align: right;\n",
              "    }\n",
              "</style>\n",
              "<table border=\"1\" class=\"dataframe\">\n",
              "  <thead>\n",
              "    <tr style=\"text-align: right;\">\n",
              "      <th></th>\n",
              "      <th>Average Participation</th>\n",
              "      <th>Average Benefit Per Person</th>\n",
              "      <th>kluster</th>\n",
              "    </tr>\n",
              "  </thead>\n",
              "  <tbody>\n",
              "    <tr>\n",
              "      <th>0</th>\n",
              "      <td>28.78</td>\n",
              "      <td>6.63</td>\n",
              "      <td>0</td>\n",
              "    </tr>\n",
              "    <tr>\n",
              "      <th>1</th>\n",
              "      <td>43.40</td>\n",
              "      <td>10.55</td>\n",
              "      <td>0</td>\n",
              "    </tr>\n",
              "    <tr>\n",
              "      <th>2</th>\n",
              "      <td>93.68</td>\n",
              "      <td>13.55</td>\n",
              "      <td>3</td>\n",
              "    </tr>\n",
              "    <tr>\n",
              "      <th>3</th>\n",
              "      <td>11.11</td>\n",
              "      <td>13.48</td>\n",
              "      <td>0</td>\n",
              "    </tr>\n",
              "    <tr>\n",
              "      <th>4</th>\n",
              "      <td>12.17</td>\n",
              "      <td>14.60</td>\n",
              "      <td>0</td>\n",
              "    </tr>\n",
              "    <tr>\n",
              "      <th>5</th>\n",
              "      <td>12.86</td>\n",
              "      <td>17.61</td>\n",
              "      <td>0</td>\n",
              "    </tr>\n",
              "    <tr>\n",
              "      <th>6</th>\n",
              "      <td>17.06</td>\n",
              "      <td>21.40</td>\n",
              "      <td>0</td>\n",
              "    </tr>\n",
              "    <tr>\n",
              "      <th>7</th>\n",
              "      <td>18.55</td>\n",
              "      <td>23.93</td>\n",
              "      <td>0</td>\n",
              "    </tr>\n",
              "    <tr>\n",
              "      <th>8</th>\n",
              "      <td>17.08</td>\n",
              "      <td>24.71</td>\n",
              "      <td>0</td>\n",
              "    </tr>\n",
              "    <tr>\n",
              "      <th>9</th>\n",
              "      <td>16.24</td>\n",
              "      <td>26.77</td>\n",
              "      <td>0</td>\n",
              "    </tr>\n",
              "    <tr>\n",
              "      <th>10</th>\n",
              "      <td>17.65</td>\n",
              "      <td>30.59</td>\n",
              "      <td>0</td>\n",
              "    </tr>\n",
              "    <tr>\n",
              "      <th>11</th>\n",
              "      <td>21.08</td>\n",
              "      <td>34.47</td>\n",
              "      <td>4</td>\n",
              "    </tr>\n",
              "    <tr>\n",
              "      <th>12</th>\n",
              "      <td>22.43</td>\n",
              "      <td>39.49</td>\n",
              "      <td>4</td>\n",
              "    </tr>\n",
              "    <tr>\n",
              "      <th>13</th>\n",
              "      <td>21.72</td>\n",
              "      <td>39.17</td>\n",
              "      <td>4</td>\n",
              "    </tr>\n",
              "    <tr>\n",
              "      <th>14</th>\n",
              "      <td>21.63</td>\n",
              "      <td>42.98</td>\n",
              "      <td>4</td>\n",
              "    </tr>\n",
              "    <tr>\n",
              "      <th>15</th>\n",
              "      <td>20.85</td>\n",
              "      <td>42.74</td>\n",
              "      <td>4</td>\n",
              "    </tr>\n",
              "    <tr>\n",
              "      <th>16</th>\n",
              "      <td>19.90</td>\n",
              "      <td>44.99</td>\n",
              "      <td>4</td>\n",
              "    </tr>\n",
              "    <tr>\n",
              "      <th>17</th>\n",
              "      <td>19.43</td>\n",
              "      <td>45.49</td>\n",
              "      <td>4</td>\n",
              "    </tr>\n",
              "    <tr>\n",
              "      <th>18</th>\n",
              "      <td>19.11</td>\n",
              "      <td>45.78</td>\n",
              "      <td>4</td>\n",
              "    </tr>\n",
              "    <tr>\n",
              "      <th>19</th>\n",
              "      <td>18.65</td>\n",
              "      <td>49.83</td>\n",
              "      <td>4</td>\n",
              "    </tr>\n",
              "    <tr>\n",
              "      <th>20</th>\n",
              "      <td>18.81</td>\n",
              "      <td>51.71</td>\n",
              "      <td>4</td>\n",
              "    </tr>\n",
              "    <tr>\n",
              "      <th>21</th>\n",
              "      <td>20.05</td>\n",
              "      <td>58.78</td>\n",
              "      <td>4</td>\n",
              "    </tr>\n",
              "    <tr>\n",
              "      <th>22</th>\n",
              "      <td>22.63</td>\n",
              "      <td>63.78</td>\n",
              "      <td>2</td>\n",
              "    </tr>\n",
              "    <tr>\n",
              "      <th>23</th>\n",
              "      <td>25.41</td>\n",
              "      <td>68.57</td>\n",
              "      <td>2</td>\n",
              "    </tr>\n",
              "    <tr>\n",
              "      <th>24</th>\n",
              "      <td>26.99</td>\n",
              "      <td>67.95</td>\n",
              "      <td>2</td>\n",
              "    </tr>\n",
              "    <tr>\n",
              "      <th>25</th>\n",
              "      <td>27.47</td>\n",
              "      <td>69.23</td>\n",
              "      <td>2</td>\n",
              "    </tr>\n",
              "    <tr>\n",
              "      <th>26</th>\n",
              "      <td>26.62</td>\n",
              "      <td>71.27</td>\n",
              "      <td>2</td>\n",
              "    </tr>\n",
              "    <tr>\n",
              "      <th>27</th>\n",
              "      <td>25.54</td>\n",
              "      <td>73.21</td>\n",
              "      <td>2</td>\n",
              "    </tr>\n",
              "    <tr>\n",
              "      <th>28</th>\n",
              "      <td>22.86</td>\n",
              "      <td>71.27</td>\n",
              "      <td>2</td>\n",
              "    </tr>\n",
              "    <tr>\n",
              "      <th>29</th>\n",
              "      <td>19.79</td>\n",
              "      <td>71.12</td>\n",
              "      <td>2</td>\n",
              "    </tr>\n",
              "    <tr>\n",
              "      <th>30</th>\n",
              "      <td>18.18</td>\n",
              "      <td>72.27</td>\n",
              "      <td>2</td>\n",
              "    </tr>\n",
              "    <tr>\n",
              "      <th>31</th>\n",
              "      <td>17.19</td>\n",
              "      <td>72.62</td>\n",
              "      <td>2</td>\n",
              "    </tr>\n",
              "    <tr>\n",
              "      <th>32</th>\n",
              "      <td>17.32</td>\n",
              "      <td>74.81</td>\n",
              "      <td>2</td>\n",
              "    </tr>\n",
              "    <tr>\n",
              "      <th>33</th>\n",
              "      <td>19.10</td>\n",
              "      <td>79.67</td>\n",
              "      <td>2</td>\n",
              "    </tr>\n",
              "    <tr>\n",
              "      <th>34</th>\n",
              "      <td>21.25</td>\n",
              "      <td>83.94</td>\n",
              "      <td>2</td>\n",
              "    </tr>\n",
              "    <tr>\n",
              "      <th>35</th>\n",
              "      <td>23.81</td>\n",
              "      <td>86.16</td>\n",
              "      <td>2</td>\n",
              "    </tr>\n",
              "    <tr>\n",
              "      <th>36</th>\n",
              "      <td>25.63</td>\n",
              "      <td>92.89</td>\n",
              "      <td>2</td>\n",
              "    </tr>\n",
              "    <tr>\n",
              "      <th>37</th>\n",
              "      <td>26.55</td>\n",
              "      <td>94.75</td>\n",
              "      <td>2</td>\n",
              "    </tr>\n",
              "    <tr>\n",
              "      <th>38</th>\n",
              "      <td>26.32</td>\n",
              "      <td>96.18</td>\n",
              "      <td>2</td>\n",
              "    </tr>\n",
              "    <tr>\n",
              "      <th>39</th>\n",
              "      <td>28.22</td>\n",
              "      <td>102.19</td>\n",
              "      <td>2</td>\n",
              "    </tr>\n",
              "    <tr>\n",
              "      <th>40</th>\n",
              "      <td>33.49</td>\n",
              "      <td>125.31</td>\n",
              "      <td>1</td>\n",
              "    </tr>\n",
              "    <tr>\n",
              "      <th>41</th>\n",
              "      <td>40.30</td>\n",
              "      <td>133.79</td>\n",
              "      <td>1</td>\n",
              "    </tr>\n",
              "    <tr>\n",
              "      <th>42</th>\n",
              "      <td>44.71</td>\n",
              "      <td>133.85</td>\n",
              "      <td>1</td>\n",
              "    </tr>\n",
              "    <tr>\n",
              "      <th>43</th>\n",
              "      <td>46.61</td>\n",
              "      <td>133.41</td>\n",
              "      <td>1</td>\n",
              "    </tr>\n",
              "    <tr>\n",
              "      <th>44</th>\n",
              "      <td>47.64</td>\n",
              "      <td>133.07</td>\n",
              "      <td>1</td>\n",
              "    </tr>\n",
              "    <tr>\n",
              "      <th>45</th>\n",
              "      <td>46.66</td>\n",
              "      <td>125.01</td>\n",
              "      <td>1</td>\n",
              "    </tr>\n",
              "    <tr>\n",
              "      <th>46</th>\n",
              "      <td>45.77</td>\n",
              "      <td>126.81</td>\n",
              "      <td>1</td>\n",
              "    </tr>\n",
              "    <tr>\n",
              "      <th>47</th>\n",
              "      <td>44.22</td>\n",
              "      <td>125.40</td>\n",
              "      <td>1</td>\n",
              "    </tr>\n",
              "    <tr>\n",
              "      <th>48</th>\n",
              "      <td>42.32</td>\n",
              "      <td>125.47</td>\n",
              "      <td>1</td>\n",
              "    </tr>\n",
              "    <tr>\n",
              "      <th>49</th>\n",
              "      <td>40.78</td>\n",
              "      <td>124.50</td>\n",
              "      <td>1</td>\n",
              "    </tr>\n",
              "    <tr>\n",
              "      <th>50</th>\n",
              "      <td>35.70</td>\n",
              "      <td>129.83</td>\n",
              "      <td>1</td>\n",
              "    </tr>\n",
              "  </tbody>\n",
              "</table>\n",
              "</div>"
            ],
            "text/plain": [
              "    Average Participation  Average Benefit Per Person  kluster\n",
              "0                   28.78                        6.63        0\n",
              "1                   43.40                       10.55        0\n",
              "2                   93.68                       13.55        3\n",
              "3                   11.11                       13.48        0\n",
              "4                   12.17                       14.60        0\n",
              "5                   12.86                       17.61        0\n",
              "6                   17.06                       21.40        0\n",
              "7                   18.55                       23.93        0\n",
              "8                   17.08                       24.71        0\n",
              "9                   16.24                       26.77        0\n",
              "10                  17.65                       30.59        0\n",
              "11                  21.08                       34.47        4\n",
              "12                  22.43                       39.49        4\n",
              "13                  21.72                       39.17        4\n",
              "14                  21.63                       42.98        4\n",
              "15                  20.85                       42.74        4\n",
              "16                  19.90                       44.99        4\n",
              "17                  19.43                       45.49        4\n",
              "18                  19.11                       45.78        4\n",
              "19                  18.65                       49.83        4\n",
              "20                  18.81                       51.71        4\n",
              "21                  20.05                       58.78        4\n",
              "22                  22.63                       63.78        2\n",
              "23                  25.41                       68.57        2\n",
              "24                  26.99                       67.95        2\n",
              "25                  27.47                       69.23        2\n",
              "26                  26.62                       71.27        2\n",
              "27                  25.54                       73.21        2\n",
              "28                  22.86                       71.27        2\n",
              "29                  19.79                       71.12        2\n",
              "30                  18.18                       72.27        2\n",
              "31                  17.19                       72.62        2\n",
              "32                  17.32                       74.81        2\n",
              "33                  19.10                       79.67        2\n",
              "34                  21.25                       83.94        2\n",
              "35                  23.81                       86.16        2\n",
              "36                  25.63                       92.89        2\n",
              "37                  26.55                       94.75        2\n",
              "38                  26.32                       96.18        2\n",
              "39                  28.22                      102.19        2\n",
              "40                  33.49                      125.31        1\n",
              "41                  40.30                      133.79        1\n",
              "42                  44.71                      133.85        1\n",
              "43                  46.61                      133.41        1\n",
              "44                  47.64                      133.07        1\n",
              "45                  46.66                      125.01        1\n",
              "46                  45.77                      126.81        1\n",
              "47                  44.22                      125.40        1\n",
              "48                  42.32                      125.47        1\n",
              "49                  40.78                      124.50        1\n",
              "50                  35.70                      129.83        1"
            ]
          },
          "metadata": {},
          "execution_count": 59
        }
      ]
    },
    {
      "cell_type": "code",
      "metadata": {
        "colab": {
          "base_uri": "https://localhost:8080/",
          "height": 278
        },
        "id": "BsqMBNi8SCBh",
        "outputId": "bee68598-f8b4-4ae7-b9e9-ec9fe938b38d"
      },
      "source": [
        "mergins_single = linkage(data, method=\"single\", metric = \"euclidean\")\n",
        "dendrogram(mergins_single)\n",
        "plt.title(\"Single Linkage\")\n",
        "plt.show()"
      ],
      "execution_count": 60,
      "outputs": [
        {
          "output_type": "display_data",
          "data": {
            "image/png": "[encoded data removed]",
            "text/plain": [
              "<Figure size 432x288 with 1 Axes>"
            ]
          },
          "metadata": {
            "needs_background": "light"
          }
        }
      ]
    },
    {
      "cell_type": "code",
      "metadata": {
        "colab": {
          "base_uri": "https://localhost:8080/",
          "height": 278
        },
        "id": "yJ0rdYG0TqV2",
        "outputId": "92dda78a-1d4d-4f7b-f497-3977f1574af3"
      },
      "source": [
        "mergings_complete = linkage(data, method=\"complete\", metric = \"euclidean\")\n",
        "dendrogram(mergings_complete)\n",
        "plt.title(\"Complete Linkage\")\n",
        "plt.show()"
      ],
      "execution_count": 63,
      "outputs": [
        {
          "output_type": "display_data",
          "data": {
            "image/png": "[encoded data removed]",
            "text/plain": [
              "<Figure size 432x288 with 1 Axes>"
            ]
          },
          "metadata": {
            "needs_background": "light"
          }
        }
      ]
    },
    {
      "cell_type": "code",
      "metadata": {
        "colab": {
          "base_uri": "https://localhost:8080/"
        },
        "id": "Djmqr1VAJ2mE",
        "outputId": "73265eb0-a6ff-46aa-817c-a97b818871c0"
      },
      "source": [
        "cluster_hierarchy = cut_tree(mergings_complete, n_clusters=3).reshape(-1, )\n",
        "cluster_hierarchy"
      ],
      "execution_count": 64,
      "outputs": [
        {
          "output_type": "execute_result",
          "data": {
            "text/plain": [
              "array([0, 0, 1, 0, 0, 0, 0, 0, 0, 0, 0, 0, 0, 0, 0, 0, 0, 0, 0, 0, 0, 0,\n",
              "       0, 0, 0, 0, 0, 0, 0, 0, 0, 0, 0, 2, 2, 2, 2, 2, 2, 2, 2, 2, 2, 2,\n",
              "       2, 2, 2, 2, 2, 2, 2])"
            ]
          },
          "metadata": {},
          "execution_count": 64
        }
      ]
    },
    {
      "cell_type": "code",
      "metadata": {
        "colab": {
          "base_uri": "https://localhost:8080/",
          "height": 1000
        },
        "id": "OJqlHC8NYYl_",
        "outputId": "1ff06e98-85c2-4596-c13d-28521b5fcb7e"
      },
      "source": [
        "data[\"cluster hierarchy\"] = cluster_hierarchy\n",
        "data"
      ],
      "execution_count": 75,
      "outputs": [
        {
          "output_type": "execute_result",
          "data": {
            "text/html": [
              "<div>\n",
              "<style scoped>\n",
              "    .dataframe tbody tr th:only-of-type {\n",
              "        vertical-align: middle;\n",
              "    }\n",
              "\n",
              "    .dataframe tbody tr th {\n",
              "        vertical-align: top;\n",
              "    }\n",
              "\n",
              "    .dataframe thead th {\n",
              "        text-align: right;\n",
              "    }\n",
              "</style>\n",
              "<table border=\"1\" class=\"dataframe\">\n",
              "  <thead>\n",
              "    <tr style=\"text-align: right;\">\n",
              "      <th></th>\n",
              "      <th>Average Participation</th>\n",
              "      <th>Average Benefit Per Person</th>\n",
              "      <th>kluster</th>\n",
              "      <th>cluster hierarchy</th>\n",
              "    </tr>\n",
              "  </thead>\n",
              "  <tbody>\n",
              "    <tr>\n",
              "      <th>0</th>\n",
              "      <td>28.78</td>\n",
              "      <td>6.63</td>\n",
              "      <td>0</td>\n",
              "      <td>0</td>\n",
              "    </tr>\n",
              "    <tr>\n",
              "      <th>1</th>\n",
              "      <td>43.40</td>\n",
              "      <td>10.55</td>\n",
              "      <td>0</td>\n",
              "      <td>0</td>\n",
              "    </tr>\n",
              "    <tr>\n",
              "      <th>2</th>\n",
              "      <td>93.68</td>\n",
              "      <td>13.55</td>\n",
              "      <td>3</td>\n",
              "      <td>1</td>\n",
              "    </tr>\n",
              "    <tr>\n",
              "      <th>3</th>\n",
              "      <td>11.11</td>\n",
              "      <td>13.48</td>\n",
              "      <td>0</td>\n",
              "      <td>0</td>\n",
              "    </tr>\n",
              "    <tr>\n",
              "      <th>4</th>\n",
              "      <td>12.17</td>\n",
              "      <td>14.60</td>\n",
              "      <td>0</td>\n",
              "      <td>0</td>\n",
              "    </tr>\n",
              "    <tr>\n",
              "      <th>5</th>\n",
              "      <td>12.86</td>\n",
              "      <td>17.61</td>\n",
              "      <td>0</td>\n",
              "      <td>0</td>\n",
              "    </tr>\n",
              "    <tr>\n",
              "      <th>6</th>\n",
              "      <td>17.06</td>\n",
              "      <td>21.40</td>\n",
              "      <td>0</td>\n",
              "      <td>0</td>\n",
              "    </tr>\n",
              "    <tr>\n",
              "      <th>7</th>\n",
              "      <td>18.55</td>\n",
              "      <td>23.93</td>\n",
              "      <td>0</td>\n",
              "      <td>0</td>\n",
              "    </tr>\n",
              "    <tr>\n",
              "      <th>8</th>\n",
              "      <td>17.08</td>\n",
              "      <td>24.71</td>\n",
              "      <td>0</td>\n",
              "      <td>0</td>\n",
              "    </tr>\n",
              "    <tr>\n",
              "      <th>9</th>\n",
              "      <td>16.24</td>\n",
              "      <td>26.77</td>\n",
              "      <td>0</td>\n",
              "      <td>0</td>\n",
              "    </tr>\n",
              "    <tr>\n",
              "      <th>10</th>\n",
              "      <td>17.65</td>\n",
              "      <td>30.59</td>\n",
              "      <td>0</td>\n",
              "      <td>0</td>\n",
              "    </tr>\n",
              "    <tr>\n",
              "      <th>11</th>\n",
              "      <td>21.08</td>\n",
              "      <td>34.47</td>\n",
              "      <td>4</td>\n",
              "      <td>0</td>\n",
              "    </tr>\n",
              "    <tr>\n",
              "      <th>12</th>\n",
              "      <td>22.43</td>\n",
              "      <td>39.49</td>\n",
              "      <td>4</td>\n",
              "      <td>0</td>\n",
              "    </tr>\n",
              "    <tr>\n",
              "      <th>13</th>\n",
              "      <td>21.72</td>\n",
              "      <td>39.17</td>\n",
              "      <td>4</td>\n",
              "      <td>0</td>\n",
              "    </tr>\n",
              "    <tr>\n",
              "      <th>14</th>\n",
              "      <td>21.63</td>\n",
              "      <td>42.98</td>\n",
              "      <td>4</td>\n",
              "      <td>0</td>\n",
              "    </tr>\n",
              "    <tr>\n",
              "      <th>15</th>\n",
              "      <td>20.85</td>\n",
              "      <td>42.74</td>\n",
              "      <td>4</td>\n",
              "      <td>0</td>\n",
              "    </tr>\n",
              "    <tr>\n",
              "      <th>16</th>\n",
              "      <td>19.90</td>\n",
              "      <td>44.99</td>\n",
              "      <td>4</td>\n",
              "      <td>0</td>\n",
              "    </tr>\n",
              "    <tr>\n",
              "      <th>17</th>\n",
              "      <td>19.43</td>\n",
              "      <td>45.49</td>\n",
              "      <td>4</td>\n",
              "      <td>0</td>\n",
              "    </tr>\n",
              "    <tr>\n",
              "      <th>18</th>\n",
              "      <td>19.11</td>\n",
              "      <td>45.78</td>\n",
              "      <td>4</td>\n",
              "      <td>0</td>\n",
              "    </tr>\n",
              "    <tr>\n",
              "      <th>19</th>\n",
              "      <td>18.65</td>\n",
              "      <td>49.83</td>\n",
              "      <td>4</td>\n",
              "      <td>0</td>\n",
              "    </tr>\n",
              "    <tr>\n",
              "      <th>20</th>\n",
              "      <td>18.81</td>\n",
              "      <td>51.71</td>\n",
              "      <td>4</td>\n",
              "      <td>0</td>\n",
              "    </tr>\n",
              "    <tr>\n",
              "      <th>21</th>\n",
              "      <td>20.05</td>\n",
              "      <td>58.78</td>\n",
              "      <td>4</td>\n",
              "      <td>0</td>\n",
              "    </tr>\n",
              "    <tr>\n",
              "      <th>22</th>\n",
              "      <td>22.63</td>\n",
              "      <td>63.78</td>\n",
              "      <td>2</td>\n",
              "      <td>0</td>\n",
              "    </tr>\n",
              "    <tr>\n",
              "      <th>23</th>\n",
              "      <td>25.41</td>\n",
              "      <td>68.57</td>\n",
              "      <td>2</td>\n",
              "      <td>0</td>\n",
              "    </tr>\n",
              "    <tr>\n",
              "      <th>24</th>\n",
              "      <td>26.99</td>\n",
              "      <td>67.95</td>\n",
              "      <td>2</td>\n",
              "      <td>0</td>\n",
              "    </tr>\n",
              "    <tr>\n",
              "      <th>25</th>\n",
              "      <td>27.47</td>\n",
              "      <td>69.23</td>\n",
              "      <td>2</td>\n",
              "      <td>0</td>\n",
              "    </tr>\n",
              "    <tr>\n",
              "      <th>26</th>\n",
              "      <td>26.62</td>\n",
              "      <td>71.27</td>\n",
              "      <td>2</td>\n",
              "      <td>0</td>\n",
              "    </tr>\n",
              "    <tr>\n",
              "      <th>27</th>\n",
              "      <td>25.54</td>\n",
              "      <td>73.21</td>\n",
              "      <td>2</td>\n",
              "      <td>0</td>\n",
              "    </tr>\n",
              "    <tr>\n",
              "      <th>28</th>\n",
              "      <td>22.86</td>\n",
              "      <td>71.27</td>\n",
              "      <td>2</td>\n",
              "      <td>0</td>\n",
              "    </tr>\n",
              "    <tr>\n",
              "      <th>29</th>\n",
              "      <td>19.79</td>\n",
              "      <td>71.12</td>\n",
              "      <td>2</td>\n",
              "      <td>0</td>\n",
              "    </tr>\n",
              "    <tr>\n",
              "      <th>30</th>\n",
              "      <td>18.18</td>\n",
              "      <td>72.27</td>\n",
              "      <td>2</td>\n",
              "      <td>0</td>\n",
              "    </tr>\n",
              "    <tr>\n",
              "      <th>31</th>\n",
              "      <td>17.19</td>\n",
              "      <td>72.62</td>\n",
              "      <td>2</td>\n",
              "      <td>0</td>\n",
              "    </tr>\n",
              "    <tr>\n",
              "      <th>32</th>\n",
              "      <td>17.32</td>\n",
              "      <td>74.81</td>\n",
              "      <td>2</td>\n",
              "      <td>0</td>\n",
              "    </tr>\n",
              "    <tr>\n",
              "      <th>33</th>\n",
              "      <td>19.10</td>\n",
              "      <td>79.67</td>\n",
              "      <td>2</td>\n",
              "      <td>2</td>\n",
              "    </tr>\n",
              "    <tr>\n",
              "      <th>34</th>\n",
              "      <td>21.25</td>\n",
              "      <td>83.94</td>\n",
              "      <td>2</td>\n",
              "      <td>2</td>\n",
              "    </tr>\n",
              "    <tr>\n",
              "      <th>35</th>\n",
              "      <td>23.81</td>\n",
              "      <td>86.16</td>\n",
              "      <td>2</td>\n",
              "      <td>2</td>\n",
              "    </tr>\n",
              "    <tr>\n",
              "      <th>36</th>\n",
              "      <td>25.63</td>\n",
              "      <td>92.89</td>\n",
              "      <td>2</td>\n",
              "      <td>2</td>\n",
              "    </tr>\n",
              "    <tr>\n",
              "      <th>37</th>\n",
              "      <td>26.55</td>\n",
              "      <td>94.75</td>\n",
              "      <td>2</td>\n",
              "      <td>2</td>\n",
              "    </tr>\n",
              "    <tr>\n",
              "      <th>38</th>\n",
              "      <td>26.32</td>\n",
              "      <td>96.18</td>\n",
              "      <td>2</td>\n",
              "      <td>2</td>\n",
              "    </tr>\n",
              "    <tr>\n",
              "      <th>39</th>\n",
              "      <td>28.22</td>\n",
              "      <td>102.19</td>\n",
              "      <td>2</td>\n",
              "      <td>2</td>\n",
              "    </tr>\n",
              "    <tr>\n",
              "      <th>40</th>\n",
              "      <td>33.49</td>\n",
              "      <td>125.31</td>\n",
              "      <td>1</td>\n",
              "      <td>2</td>\n",
              "    </tr>\n",
              "    <tr>\n",
              "      <th>41</th>\n",
              "      <td>40.30</td>\n",
              "      <td>133.79</td>\n",
              "      <td>1</td>\n",
              "      <td>2</td>\n",
              "    </tr>\n",
              "    <tr>\n",
              "      <th>42</th>\n",
              "      <td>44.71</td>\n",
              "      <td>133.85</td>\n",
              "      <td>1</td>\n",
              "      <td>2</td>\n",
              "    </tr>\n",
              "    <tr>\n",
              "      <th>43</th>\n",
              "      <td>46.61</td>\n",
              "      <td>133.41</td>\n",
              "      <td>1</td>\n",
              "      <td>2</td>\n",
              "    </tr>\n",
              "    <tr>\n",
              "      <th>44</th>\n",
              "      <td>47.64</td>\n",
              "      <td>133.07</td>\n",
              "      <td>1</td>\n",
              "      <td>2</td>\n",
              "    </tr>\n",
              "    <tr>\n",
              "      <th>45</th>\n",
              "      <td>46.66</td>\n",
              "      <td>125.01</td>\n",
              "      <td>1</td>\n",
              "      <td>2</td>\n",
              "    </tr>\n",
              "    <tr>\n",
              "      <th>46</th>\n",
              "      <td>45.77</td>\n",
              "      <td>126.81</td>\n",
              "      <td>1</td>\n",
              "      <td>2</td>\n",
              "    </tr>\n",
              "    <tr>\n",
              "      <th>47</th>\n",
              "      <td>44.22</td>\n",
              "      <td>125.40</td>\n",
              "      <td>1</td>\n",
              "      <td>2</td>\n",
              "    </tr>\n",
              "    <tr>\n",
              "      <th>48</th>\n",
              "      <td>42.32</td>\n",
              "      <td>125.47</td>\n",
              "      <td>1</td>\n",
              "      <td>2</td>\n",
              "    </tr>\n",
              "    <tr>\n",
              "      <th>49</th>\n",
              "      <td>40.78</td>\n",
              "      <td>124.50</td>\n",
              "      <td>1</td>\n",
              "      <td>2</td>\n",
              "    </tr>\n",
              "    <tr>\n",
              "      <th>50</th>\n",
              "      <td>35.70</td>\n",
              "      <td>129.83</td>\n",
              "      <td>1</td>\n",
              "      <td>2</td>\n",
              "    </tr>\n",
              "  </tbody>\n",
              "</table>\n",
              "</div>"
            ],
            "text/plain": [
              "    Average Participation  ...  cluster hierarchy\n",
              "0                   28.78  ...                  0\n",
              "1                   43.40  ...                  0\n",
              "2                   93.68  ...                  1\n",
              "3                   11.11  ...                  0\n",
              "4                   12.17  ...                  0\n",
              "5                   12.86  ...                  0\n",
              "6                   17.06  ...                  0\n",
              "7                   18.55  ...                  0\n",
              "8                   17.08  ...                  0\n",
              "9                   16.24  ...                  0\n",
              "10                  17.65  ...                  0\n",
              "11                  21.08  ...                  0\n",
              "12                  22.43  ...                  0\n",
              "13                  21.72  ...                  0\n",
              "14                  21.63  ...                  0\n",
              "15                  20.85  ...                  0\n",
              "16                  19.90  ...                  0\n",
              "17                  19.43  ...                  0\n",
              "18                  19.11  ...                  0\n",
              "19                  18.65  ...                  0\n",
              "20                  18.81  ...                  0\n",
              "21                  20.05  ...                  0\n",
              "22                  22.63  ...                  0\n",
              "23                  25.41  ...                  0\n",
              "24                  26.99  ...                  0\n",
              "25                  27.47  ...                  0\n",
              "26                  26.62  ...                  0\n",
              "27                  25.54  ...                  0\n",
              "28                  22.86  ...                  0\n",
              "29                  19.79  ...                  0\n",
              "30                  18.18  ...                  0\n",
              "31                  17.19  ...                  0\n",
              "32                  17.32  ...                  0\n",
              "33                  19.10  ...                  2\n",
              "34                  21.25  ...                  2\n",
              "35                  23.81  ...                  2\n",
              "36                  25.63  ...                  2\n",
              "37                  26.55  ...                  2\n",
              "38                  26.32  ...                  2\n",
              "39                  28.22  ...                  2\n",
              "40                  33.49  ...                  2\n",
              "41                  40.30  ...                  2\n",
              "42                  44.71  ...                  2\n",
              "43                  46.61  ...                  2\n",
              "44                  47.64  ...                  2\n",
              "45                  46.66  ...                  2\n",
              "46                  45.77  ...                  2\n",
              "47                  44.22  ...                  2\n",
              "48                  42.32  ...                  2\n",
              "49                  40.78  ...                  2\n",
              "50                  35.70  ...                  2\n",
              "\n",
              "[51 rows x 4 columns]"
            ]
          },
          "metadata": {},
          "execution_count": 75
        }
      ]
    },
    {
      "cell_type": "code",
      "metadata": {
        "colab": {
          "base_uri": "https://localhost:8080/",
          "height": 460
        },
        "id": "hiGLvFtnU0SW",
        "outputId": "68e03924-0bc3-4270-8a74-92d600d88213"
      },
      "source": [
        "plt.figure(figsize = (9,6))\n",
        "sns.scatterplot(data['Average Participation'], data['Average Benefit Per Person'], hue=data['cluster hierarchy'], palette=sns.color_palette('hls', 3))\n",
        "plt.title('Hierarchy Clustering')\n",
        "plt.show()"
      ],
      "execution_count": 76,
      "outputs": [
        {
          "output_type": "stream",
          "name": "stderr",
          "text": [
            "/usr/local/lib/python3.7/dist-packages/seaborn/_decorators.py:43: FutureWarning: Pass the following variables as keyword args: x, y. From version 0.12, the only valid positional argument will be `data`, and passing other arguments without an explicit keyword will result in an error or misinterpretation.\n",
            "  FutureWarning\n"
          ]
        },
        {
          "output_type": "display_data",
          "data": {
            "image/png": "[encoded data removed]",
            "text/plain": [
              "<Figure size 648x432 with 1 Axes>"
            ]
          },
          "metadata": {
            "needs_background": "light"
          }
        }
      ]
    }
  ]
}